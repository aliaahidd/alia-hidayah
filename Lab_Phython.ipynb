{
  "nbformat": 4,
  "nbformat_minor": 0,
  "metadata": {
    "colab": {
      "name": "Lab Phython.ipynb",
      "provenance": [],
      "collapsed_sections": [],
      "authorship_tag": "ABX9TyPt96Z77QUOwvUGTr9ASbRc",
      "include_colab_link": true
    },
    "kernelspec": {
      "name": "python3",
      "display_name": "Python 3"
    },
    "language_info": {
      "name": "python"
    }
  },
  "cells": [
    {
      "cell_type": "markdown",
      "metadata": {
        "id": "view-in-github",
        "colab_type": "text"
      },
      "source": [
        "<a href=\"https://colab.research.google.com/github/aliaahidd/alia-hidayah/blob/main/Lab_Phython.ipynb\" target=\"_parent\"><img src=\"https://colab.research.google.com/assets/colab-badge.svg\" alt=\"Open In Colab\"/></a>"
      ]
    },
    {
      "cell_type": "code",
      "metadata": {
        "id": "rifk_6Ui6Tqv"
      },
      "source": [
        "import numpy as np\n",
        "import pandas as pd"
      ],
      "execution_count": 27,
      "outputs": []
    },
    {
      "cell_type": "code",
      "metadata": {
        "id": "wMpqG72l5lmN"
      },
      "source": [
        "staff_planning = [\n",
        "          [[0,0,10],[1,0,10],[2,0,10],[3,0,10],[4,0,10],[5,0,10],[6,0,10],[7,0,10],[8,0,10],[9,0,10],[10,0,10]],     \n",
        "          [[0,0,10],[1,0,10],[2,0,10],[3,0,10],[4,0,10],[5,0,10],[6,0,10],[7,0,10],[8,0,10],[9,0,10],[10,0,10]],  \n",
        "          [[0,0,10],[1,0,10],[2,0,10],[3,0,10],[4,0,10],[5,0,10],[6,0,10],[7,0,10],[8,0,10],[9,0,10],[10,0,10]],  \n",
        "          [[0,0,10],[1,0,10],[2,0,10],[3,0,10],[4,0,10],[5,0,10],[6,0,10],[7,0,10],[8,0,10],[9,0,10],[10,0,10]],  \n",
        "          [[0,0,10],[1,0,10],[2,0,10],[3,0,10],[4,0,10],[5,0,10],[6,0,10],[7,0,10],[8,0,10],[9,0,10],[10,0,10]]     \n",
        "]"
      ],
      "execution_count": 28,
      "outputs": []
    },
    {
      "cell_type": "code",
      "metadata": {
        "id": "XEbbGhqT6sX0"
      },
      "source": [
        "hourlystaff_needed = np.array([\n",
        "          [0, 0, 0, 0, 0, 0, 4, 4, 4, 2, 2, 2, 6, 6, 2, 2, 2, 6, 6, 6, 2, 2, 2, 2], \n",
        "          [0, 0, 0, 0, 0, 0, 4, 4, 4, 2, 2, 2, 6, 6, 2, 2, 2, 6, 6, 6, 2, 2, 2, 2],\n",
        "          [0, 0, 0, 0, 0, 0, 4, 4, 4, 2, 2, 2, 6, 6, 2, 2, 2, 6, 6, 6, 2, 2, 2, 2],\n",
        "          [0, 0, 0, 0, 0, 0, 4, 4, 4, 2, 2, 2, 6, 6, 2, 2, 2, 6, 6, 6, 2, 2, 2, 2],\n",
        "          [0, 0, 0, 0, 0, 0, 4, 4, 4, 2, 2, 2, 6, 6, 2, 2, 2, 6, 6, 6, 2, 2, 2, 2]                   \n",
        "])"
      ],
      "execution_count": 29,
      "outputs": []
    },
    {
      "cell_type": "code",
      "metadata": {
        "id": "LcgAG2Sd7cSd"
      },
      "source": [
        "\"\"\"\n",
        "Employee Present: analyse whether the employees is present yes or no on a given time\n",
        "based on the employee list of 3 (id, start time, duration)\n",
        "\"\"\"\n",
        "def employee_present(employee, time):\n",
        "  employee_start_time = employee[1]\n",
        "  employee_duration = employee[2]\n",
        "  employee_end_time = employee_start_time + employee_duration\n",
        "  if(time >= employee_start_time) and (time < employee_end_time):\n",
        "    return True\n",
        "  return False"
      ],
      "execution_count": 30,
      "outputs": []
    },
    {
      "cell_type": "code",
      "metadata": {
        "id": "Xjj3yXLI8TvJ"
      },
      "source": [
        "\"\"\"\n",
        "Convert a staff planning to a staff-needed planning \n",
        "The employee planning is organised per employee, the staff needed planning is the number of employees working per hour\n",
        "The staff needed planning is based on the employee planning and will allow to calculate the difference with the staff-needed\n",
        "It doesn't work overnight, but our shop isn't open at night anyway\n",
        "\"\"\"\n",
        "def staffplanning_to_hourlyplanning(staff_planning):\n",
        "\n",
        "  hourlystaff_week = []\n",
        "  for day in staff_planning:\n",
        "\n",
        "    hourlystaff_day = []\n",
        "    for employee in day:\n",
        "\n",
        "      employee_present_hour = []\n",
        "      for time in range (0,24):\n",
        "\n",
        "        employee_present_hour.append(employee_present(employee,time))\n",
        "\n",
        "      hourlystaff_day.append(employee_present_hour)\n",
        "\n",
        "    hourlystaff_week.append(hourlystaff_day)\n",
        "\n",
        "  hourlystaff_week = np.array(hourlystaff_week).sum(axis = 1)\n",
        "  return hourlystaff_week"
      ],
      "execution_count": 31,
      "outputs": []
    },
    {
      "cell_type": "code",
      "metadata": {
        "id": "6F0PjdO5_HVg"
      },
      "source": [
        "\"\"\"\n",
        "The cost is calculated as hours understaffed + hours overstaffed\n",
        "\"\"\"\n",
        "def cost(hourlystaff, hourlystaff_needed):\n",
        "  errors = hourlystaff - hourlystaff_needed\n",
        "  overstaff = abs(errors[errors > 0].sum())\n",
        "  understaff = abs(errors[errors < 0].sum())\n",
        "\n",
        "  overstaff_cost = 1\n",
        "  understaff_cost = 1\n",
        "\n",
        "  cost = overstaff_cost * overstaff + understaff_cost * understaff\n",
        "  return cost "
      ],
      "execution_count": 32,
      "outputs": []
    },
    {
      "cell_type": "code",
      "metadata": {
        "id": "u4EwrCWh_1T2"
      },
      "source": [
        "\"\"\"\n",
        "Generate an entirely random staff planning for a certain number of days\n",
        "start time is random between 0 and 23; duration is random between 0 and 10\n",
        "\"\"\"\n",
        "def generate_random_staff_planning(n_days, n_staff):\n",
        "  period_planning = []\n",
        "  for day in range(n_days):\n",
        "    day_planning = []\n",
        "    for employee_id in range(n_staff):\n",
        "      start_time = np.random.randint(0,23)\n",
        "      duration = np.random.randint(0, 10)\n",
        "      employee = [employee_id, start_time, duration]\n",
        "      day_planning.append(employee)\n",
        "\n",
        "    period_planning.append(day_planning)\n",
        "\n",
        "  return period_planning"
      ],
      "execution_count": 33,
      "outputs": []
    },
    {
      "cell_type": "code",
      "metadata": {
        "colab": {
          "base_uri": "https://localhost:8080/"
        },
        "id": "TBfIB6eBA-ME",
        "outputId": "4a88334f-ef00-47f7-8cb8-b3c89fe0a8f4"
      },
      "source": [
        "# An example of the code until here\n",
        "\n",
        "# Show the random initialization of the week planning\n",
        "random_staff_planning = generate_random_staff_planning(n_days = 5, n_staff = 11)\n",
        "random_staff_planning\n",
        "\n",
        "# Show the cost of this random week planning\n",
        "cost(staffplanning_to_hourlyplanning(random_staff_planning), hourlystaff_needed)\n"
      ],
      "execution_count": 34,
      "outputs": [
        {
          "output_type": "execute_result",
          "data": {
            "text/plain": [
              "226"
            ]
          },
          "metadata": {
            "tags": []
          },
          "execution_count": 34
        }
      ]
    },
    {
      "cell_type": "code",
      "metadata": {
        "id": "0HtvjcN-Be1p"
      },
      "source": [
        "\"\"\"\n",
        "Create a parent generation of parent plannings\n",
        "\"\"\"\n",
        "def create_parent_generation(n_parents, n_days = 7, n_staff = 11):\n",
        "  parents = []\n",
        "  for i in range(n_parents):\n",
        "    parent = generate_random_staff_planning(n_days = n_days, n_staff = n_staff)\n",
        "    parents.append(parent)\n",
        "  return parents"
      ],
      "execution_count": 35,
      "outputs": []
    },
    {
      "cell_type": "code",
      "metadata": {
        "id": "N43CCauLB8Oc"
      },
      "source": [
        "\"\"\"\n",
        "for each iteration, select randomly two parents two parents and make a random combination of those two parents\n",
        "by applying a randomly generated yes/no mask to the two selected parents\n",
        "\"\"\"\n",
        "def random_combine(parents, n_offspring):\n",
        "  n_parents = len(parents)\n",
        "  n_periods = len(parents[0])\n",
        "  n_employees = len(parents[0][0])\n",
        "\n",
        "  offspring = []\n",
        "  for i in range(n_offspring):\n",
        "    random_dad = parents[np.random.randint(low = 0, high = n_parents - 1)]\n",
        "    random_mom = parents[np,random.randint(low = 0, high = n_parents - 1)]\n",
        "\n",
        "    dad_mask = np.random.randint(0, 2, size = np.array(random_dad).shape)\n",
        "    mom_mask = np.logical_not(dad_mask)\n",
        "\n",
        "    child = np.add(np.multiply(random_add, dad_mask), np.multiply(random_mom, mom_mask))\n",
        "\n",
        "    offspring.append(child)\n",
        "  return offspring"
      ],
      "execution_count": 36,
      "outputs": []
    },
    {
      "cell_type": "code",
      "metadata": {
        "id": "xzxtafxiD8rd"
      },
      "source": [
        "def mutate_parent(parent, n_mutations):\n",
        "  size1 = parent.shape[0]\n",
        "  size2 = parent.shape[1]\n",
        "\n",
        "  for i in range(n_mutations):\n",
        "\n",
        "    rand1 = np.random.randint(0, size1)\n",
        "    rand2 = np.random.randint(0, size2)\n",
        "    rand3 = np.random.randint(1, 2)\n",
        "\n",
        "    parent[rand1, rand2, rand3] = np.random.randint(0, 10)\n",
        "\n",
        "  return parent\n",
        "\n",
        "def mutate_gen(parent_gen, n_muatations):\n",
        "  mutated_parent_gen = []\n",
        "  for parent in parent_gen:\n",
        "    mutated_parent_gen.append(mutate_parent(parent, n_mutations))\n",
        "  return mutated_parent_gen"
      ],
      "execution_count": 37,
      "outputs": []
    },
    {
      "cell_type": "code",
      "metadata": {
        "id": "TRFQX_PvEqlk"
      },
      "source": [
        "def is_acceptatble(parent):\n",
        "  return np.logical_not((np.array(parent)[:,:,2:] > 10).any()) #work more than 10 hours\n",
        "\n",
        "def select_acceptable(parent_gen):\n",
        "  parent_gen = [parent for parent in parent_gen if is_acceptable(parent)]\n",
        "  return parent_gen"
      ],
      "execution_count": 38,
      "outputs": []
    },
    {
      "cell_type": "code",
      "metadata": {
        "id": "RKjn5Q2wFJ2J"
      },
      "source": [
        "def select_best(parent_gen, hourlystaff_needed, n_best):\n",
        "  costs = []\n",
        "  for idx, parent_staff_planning in enumerate(parent_gen):\n",
        "\n",
        "    parent_hourly_planning = staffplanning_to_hourlyplanning(parent_staff_planning)\n",
        "    parent_cost = cost(parent_hourly_planning, hourlystaff_needed)\n",
        "    costs.append([idx, parent_cost])\n",
        "\n",
        "  print('Generations besr is: {}, Generations worst is: {}'.format(pd.DataFrame(costs)[1].min(), pd.DataFrame(costs)[1].max()))\n",
        "\n",
        "  costs_tmp = pd.DataFrame(costs).sort_values(by = 1, ascending = True).reset_index(drop = True)\n",
        "  selected_parents_idx = list(costs_tmp.iloc[:n_best, 0])\n",
        "  selected_parents = [parent for idx, parent in enumerate(parent_gen) if idx in selected_parents_idx]\n",
        "\n",
        "  return selected_parents"
      ],
      "execution_count": 39,
      "outputs": []
    },
    {
      "cell_type": "code",
      "metadata": {
        "id": "EZbY5KslGiHP"
      },
      "source": [
        "\"\"\"\n",
        "The overall function\n",
        "\"\"\"\n",
        "def gen_algo(hourlystaff_needed, n_iterations):\n",
        "\n",
        "  generation_size = 500\n",
        "\n",
        "  parent_gen = create_parent_generation(n_parents = generation_size, n_days = 5, n_staff = 11)\n",
        "  for it in range(n_iterations):\n",
        "      parent_gen = select_acceptable(parent_gen)\n",
        "      parent_gen = select_best(parent_gen, hourlystaff_needed, n_best = 100)\n",
        "      parent_gen = random_combine(parent_gen, n_offspring = generation_size)\n",
        "      parent_gen = mutate_gen(parent_gen, n_mutations = 1)\n",
        "\n",
        "  best_child = select_best(parent_gen, hourlystaff_needed, n_best = 1)\n",
        "  return best_child\n"
      ],
      "execution_count": 40,
      "outputs": []
    }
  ]
}